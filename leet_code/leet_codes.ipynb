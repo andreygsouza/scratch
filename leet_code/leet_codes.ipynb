{
 "cells": [
  {
   "cell_type": "markdown",
   "metadata": {},
   "source": [
    "# [53. Maximum Subarray](https://leetcode.com/problems/maximum-subarray/)"
   ]
  },
  {
   "cell_type": "code",
   "execution_count": 43,
   "metadata": {},
   "outputs": [
    {
     "name": "stdout",
     "output_type": "stream",
     "text": [
      "6\n",
      "1\n",
      "23\n",
      "0\n"
     ]
    }
   ],
   "source": [
    "def maxSubArray(nums):\n",
    "    \"\"\"\n",
    "    :type nums: List[int]\n",
    "    :rtype: int\n",
    "    \"\"\"\n",
    "    max_current = max_global = nums[0]\n",
    "    for num in nums[1:]:\n",
    "        max_current = max(num, max_current+num)\n",
    "        if max_current > max_global:\n",
    "            max_global = max_current\n",
    "    return max_global\n",
    "\n",
    "print(maxSubArray([-2,1,-3,4,-1,2,1,-5,4]))  # Output: 6\n",
    "print(maxSubArray([1]))  # Output: 1\n",
    "print(maxSubArray([5,4,-1,7,8]))  # Output: 23\n",
    "print(maxSubArray([-1,0,-2]))  # Output: 0\n"
   ]
  },
  {
   "cell_type": "markdown",
   "metadata": {},
   "source": [
    "# [20. Valid Parentheses](https://leetcode.com/problems/valid-parentheses/)"
   ]
  },
  {
   "cell_type": "code",
   "execution_count": 60,
   "metadata": {},
   "outputs": [
    {
     "name": "stdout",
     "output_type": "stream",
     "text": [
      "True\n",
      "True\n",
      "False\n",
      "True\n",
      "False\n"
     ]
    }
   ],
   "source": [
    "def isValid(s):\n",
    "    \"\"\"\n",
    "    :type s: str\n",
    "    :rtype: bool\n",
    "    \"\"\"\n",
    "    mapping = {\n",
    "        \"(\": \")\",\n",
    "        \"[\": \"]\",\n",
    "        \"{\": \"}\",\n",
    "    }\n",
    "    stack = []\n",
    "    for c in s:\n",
    "        # check if it is an open brackets\n",
    "        if c in mapping:\n",
    "            stack.append(c)\n",
    "        # check if it is an end brackets\n",
    "        elif c in mapping.values():\n",
    "            if stack and mapping[stack[-1]]==c:\n",
    "                stack.pop()\n",
    "            else:\n",
    "                return False\n",
    "    if stack:\n",
    "        return False\n",
    "    else:\n",
    "        return True\n",
    "\n",
    "    \n",
    "print(isValid(\"()\"))\n",
    "print(isValid(\"()[]{}\"))\n",
    "print(isValid(\"(]\"))\n",
    "print(isValid(\"([])\"))\n",
    "print(isValid(\"]\"))"
   ]
  },
  {
   "cell_type": "markdown",
   "metadata": {},
   "source": [
    "# [279. Perfect Squares](https://leetcode.com/problems/perfect-squares/description/)"
   ]
  },
  {
   "cell_type": "code",
   "execution_count": 15,
   "metadata": {},
   "outputs": [
    {
     "name": "stdout",
     "output_type": "stream",
     "text": [
      "3\n",
      "2\n"
     ]
    }
   ],
   "source": [
    "def numSquares(n):\n",
    "    \"\"\"\n",
    "    :type n: int\n",
    "    :rtype: int\n",
    "    \"\"\"\n",
    "    cache = {}\n",
    "    squares = [i**2 for i in range(1, int(n**0.5)+1)]\n",
    "\n",
    "    def dp(i):\n",
    "        if i==0:\n",
    "            return 0\n",
    "\n",
    "        if i in cache:\n",
    "            return cache[i]\n",
    "        \n",
    "        min_squares = float(\"inf\")\n",
    "\n",
    "        for square in squares:\n",
    "            if square > i:\n",
    "                break\n",
    "            min_squares = min(min_squares, 1+dp(i-square))\n",
    "\n",
    "        cache[i] = min_squares\n",
    "        return min_squares\n",
    "\n",
    "    return dp(n)\n",
    "\n",
    "        \n",
    "    \n",
    "print(numSquares(12))\n",
    "print(numSquares(13))"
   ]
  },
  {
   "cell_type": "code",
   "execution_count": 73,
   "metadata": {},
   "outputs": [
    {
     "name": "stdout",
     "output_type": "stream",
     "text": [
      "3\n",
      "2\n"
     ]
    }
   ],
   "source": [
    "def numSquares(n):\n",
    "    \"\"\"\n",
    "    :type n: int\n",
    "    :rtype: int\n",
    "    \"\"\"\n",
    "    # first let get the list of squares\n",
    "    squares = [i*i for i in range(1, int(n**0.5)+1)] \n",
    "    cache = {}\n",
    "\n",
    "    def dp(i):\n",
    "        if i==0:\n",
    "            return 0\n",
    "        \n",
    "        if i in cache:\n",
    "            return cache[i]\n",
    "        \n",
    "        min_squares = float(\"inf\")\n",
    "\n",
    "        for square in squares:\n",
    "            if square > i: # out of bounds\n",
    "                break\n",
    "            min_squares = min(min_squares, 1 + dp(i - square))\n",
    "        \n",
    "        cache[i] = min_squares\n",
    "\n",
    "        return min_squares\n",
    "\n",
    "    return dp(n)\n",
    "\n",
    "print(numSquares(12))\n",
    "print(numSquares(13))"
   ]
  },
  {
   "cell_type": "markdown",
   "metadata": {},
   "source": [
    "# [70. Climbing Stairs](https://leetcode.com/problems/climbing-stairs/description/)"
   ]
  },
  {
   "cell_type": "code",
   "execution_count": 3,
   "metadata": {},
   "outputs": [
    {
     "name": "stdout",
     "output_type": "stream",
     "text": [
      "2\n",
      "3\n",
      "8\n"
     ]
    }
   ],
   "source": [
    "def climbStairs(n):\n",
    "    \"\"\"\n",
    "    :type n: int\n",
    "    :rtype: int\n",
    "    \"\"\"\n",
    "    one, two = 1, 1\n",
    "\n",
    "    for i in range (n-1):\n",
    "        temp = one\n",
    "        one = one + two\n",
    "        two = temp\n",
    "    return one\n",
    "\n",
    "\n",
    "print(climbStairs(2))\n",
    "print(climbStairs(3))\n",
    "print(climbStairs(5))"
   ]
  },
  {
   "cell_type": "code",
   "execution_count": 4,
   "metadata": {},
   "outputs": [
    {
     "name": "stdout",
     "output_type": "stream",
     "text": [
      "8\n"
     ]
    }
   ],
   "source": [
    "def climbStairs(n):\n",
    "    \"\"\"\n",
    "    :type n: int\n",
    "    :rtype: int\n",
    "    \"\"\"\n",
    "\n",
    "    cache = {}\n",
    "    def dp(i):\n",
    "        # base case\n",
    "        if i <=1:\n",
    "            return 1\n",
    "\n",
    "        if i in cache:\n",
    "            return cache[i]\n",
    "        # calculate the cache\n",
    "        cache[i] = dp(i-1) + dp(i-2)\n",
    "        return cache[i]\n",
    "    \n",
    "    return dp(n)\n",
    "\n",
    "\n",
    "# print(climbStairs(2))\n",
    "# print(climbStairs(3))\n",
    "print(climbStairs(5))"
   ]
  },
  {
   "cell_type": "markdown",
   "metadata": {},
   "source": [
    "# [2244. Minimum Rounds to Complete All Tasks](https://leetcode.com/problems/minimum-rounds-to-complete-all-tasks/)"
   ]
  },
  {
   "cell_type": "code",
   "execution_count": 20,
   "metadata": {},
   "outputs": [
    {
     "name": "stdout",
     "output_type": "stream",
     "text": [
      "4\n",
      "-1\n"
     ]
    }
   ],
   "source": [
    "def minimumRounds(tasks):\n",
    "    \"\"\"\n",
    "    You are given a 0-indexed integer array tasks, where tasks[i] represents the difficulty level of a task. \n",
    "    In each round, you can complete either 2 or 3 tasks of the same difficulty level.\n",
    "    Return the minimum rounds required to complete all the tasks, or -1 if it is not possible to complete all the tasks.\n",
    "\n",
    "    :type tasks: List[int]\n",
    "    :rtype: int\n",
    "    \"\"\"\n",
    "    unique_tasks = {}\n",
    "    for n in tasks:\n",
    "        unique_tasks[n] = unique_tasks.get(n, 0) + 1\n",
    "\n",
    "    cache = {}\n",
    "\n",
    "    def dp(i): # i is the number of unique tasks for a given difficulty\n",
    "        if i == 0:\n",
    "            return 0\n",
    "        elif i < 2:\n",
    "            return -1\n",
    "\n",
    "        if i in cache:\n",
    "            return cache[i]\n",
    "\n",
    "        # If both options return -1, it's not possible to complete the tasks\n",
    "        option1 = dp(i-3)\n",
    "        option2 = dp(i-2)\n",
    "        if option1 == -1 and option2 == -1:\n",
    "            cache[i] = -1\n",
    "        else:\n",
    "            cache[i] = min(1 + option1 if option1 != -1 else float('inf'), \n",
    "                           1 + option2 if option2 != -1 else float('inf'))\n",
    "\n",
    "        return cache[i]\n",
    "    \n",
    "    steps = []\n",
    "    for count_task in unique_tasks.values():\n",
    "        if count_task == 1:\n",
    "            return -1 \n",
    "        temp_steps = dp(count_task)\n",
    "        if temp_steps == -1:\n",
    "            return -1\n",
    "        steps.append(temp_steps)\n",
    "\n",
    "    return sum(steps)\n",
    "\n",
    "        \n",
    "print(minimumRounds([2,2,3,3,2,4,4,4,4,4]))\n",
    "print(minimumRounds([2,3,3]))\n",
    "\n",
    "    "
   ]
  },
  {
   "cell_type": "code",
   "execution_count": null,
   "metadata": {},
   "outputs": [
    {
     "name": "stdout",
     "output_type": "stream",
     "text": [
      "4\n",
      "-1\n"
     ]
    }
   ],
   "source": [
    "def minimumRounds(tasks):\n",
    "    \"\"\"\n",
    "    You are given a 0-indexed integer array tasks, where tasks[i] represents the difficulty level of a task. \n",
    "    In each round, you can complete either 2 or 3 tasks of the same difficulty level.\n",
    "    Return the minimum rounds required to complete all the tasks, or -1 if it is not possible to complete all the tasks.\n",
    "\n",
    "    :type tasks: List[int]\n",
    "    :rtype: int\n",
    "    \"\"\"\n",
    "    unique_tasks = {}\n",
    "    for n in tasks:\n",
    "        unique_tasks[n] = unique_tasks.get(n, 0) + 1\n",
    "\n",
    "    cache = {}\n",
    "\n",
    "    def min_tasks(num_tasks): # i is the number of unique tasks for a given difficulty\n",
    "        rounds = 0\n",
    "        while num_tasks > 0:\n",
    "            if num_tasks % 3 ==0:\n",
    "                rounds += num_tasks // 3\n",
    "                num_tasks = 0\n",
    "            else:\n",
    "                rounds += 1\n",
    "                num_tasks -= 2\n",
    "        return rounds\n",
    "\n",
    "    steps = []\n",
    "    for count_task in unique_tasks.values():\n",
    "        if count_task == 1:\n",
    "            return -1 \n",
    "        temp_steps = min_tasks(count_task)\n",
    "        steps.append(temp_steps)\n",
    "\n",
    "    return sum(steps)\n",
    "\n",
    "        \n",
    "print(minimumRounds([2,2,3,3,2,4,4,4,4,4]))\n",
    "print(minimumRounds([2,3,3]))\n",
    "\n",
    "    "
   ]
  },
  {
   "cell_type": "code",
   "execution_count": 24,
   "metadata": {},
   "outputs": [
    {
     "data": {
      "text/plain": [
       "225"
      ]
     },
     "execution_count": 24,
     "metadata": {},
     "output_type": "execute_result"
    }
   ],
   "source": [
    "def min_tasks(num_tasks): # i is the number of unique tasks for a given difficulty\n",
    "    rounds = 0\n",
    "    while num_tasks > 0:\n",
    "        if num_tasks % 3 == 0:\n",
    "            rounds += num_tasks // 3\n",
    "            num_tasks = 0\n",
    "        else:\n",
    "            rounds += 1\n",
    "            num_tasks -= 2\n",
    "    return rounds\n",
    "\n",
    "min_tasks(673)"
   ]
  },
  {
   "cell_type": "markdown",
   "metadata": {},
   "source": [
    "# [136. Single Number](https://leetcode.com/problems/single-number)"
   ]
  },
  {
   "cell_type": "code",
   "execution_count": 30,
   "metadata": {},
   "outputs": [
    {
     "name": "stdout",
     "output_type": "stream",
     "text": [
      "1\n",
      "4\n",
      "1\n"
     ]
    }
   ],
   "source": [
    "def singleNumber(nums):\n",
    "    \"\"\"\n",
    "    :type grid: List[List[str]]\n",
    "    :rtype: int\n",
    "    \"\"\"\n",
    "    count = {}\n",
    "    for num in nums:\n",
    "        count[num] = count.get(num, 0) + 1\n",
    "\n",
    "    unique_value = [key for key, value in count.items() if value == 1]\n",
    "    if len(set(unique_value)) > 1:\n",
    "        return\n",
    "    return unique_value[0]\n",
    "\n",
    "print(singleNumber([2,2,1]))\n",
    "print(singleNumber([4,1,2,1,2]))\n",
    "print(singleNumber([1]))"
   ]
  },
  {
   "cell_type": "markdown",
   "metadata": {},
   "source": [
    "# [35. Search Insert Position](https://leetcode.com/problems/search-insert-position)"
   ]
  },
  {
   "cell_type": "code",
   "execution_count": 38,
   "metadata": {},
   "outputs": [
    {
     "name": "stdout",
     "output_type": "stream",
     "text": [
      "1\n"
     ]
    }
   ],
   "source": [
    "def searchInsert(nums, target):\n",
    "    \"\"\"\n",
    "    :type nums: List[int]\n",
    "    :type target: int\n",
    "    :rtype: int\n",
    "    \"\"\"\n",
    "    # start search space\n",
    "    low = 0\n",
    "    high = len(nums) - 1\n",
    "\n",
    "    while low <= high:\n",
    "        # get the mid\n",
    "        mid = low + (high - low) // 2\n",
    "        if nums[mid] == target:\n",
    "            return mid\n",
    "        elif nums[mid] < target:\n",
    "            low = mid + 1\n",
    "        else:\n",
    "            high = mid - 1\n",
    "    return low\n",
    "\n",
    "# print(searchInsert([1,3,5,6], 5))\n",
    "print(searchInsert([1,3,5,6], 2))\n",
    "# print(searchInsert([1,3,5,6], 7))"
   ]
  },
  {
   "cell_type": "markdown",
   "metadata": {},
   "source": [
    "# [78. Subsets](https://leetcode.com/problems/subsets/)"
   ]
  },
  {
   "cell_type": "code",
   "execution_count": 49,
   "metadata": {},
   "outputs": [
    {
     "name": "stdout",
     "output_type": "stream",
     "text": [
      "[[1, 2, 3], [1, 2], [1, 3], [1], [2, 3], [2], [3], []]\n"
     ]
    }
   ],
   "source": [
    "def subsets(nums):\n",
    "    \"\"\"\n",
    "    :type nums: List[int]\n",
    "    :rtype: List[List[int]]\n",
    "    \"\"\"\n",
    "    result = []\n",
    "    local_solution = []\n",
    "\n",
    "    def backtracking(i):\n",
    "        if i == len(nums):\n",
    "            result.append(local_solution.copy())\n",
    "            return None\n",
    "        \n",
    "        # Add the number on the list\n",
    "        local_solution.append(nums[i])\n",
    "        backtracking(i+1)\n",
    "\n",
    "        # do not add the number to the list\n",
    "        local_solution.pop()\n",
    "        backtracking(i+1)\n",
    "\n",
    "    backtracking(0)\n",
    "    return result\n",
    "\n",
    "\n",
    "print(subsets([1,2,3]))"
   ]
  },
  {
   "cell_type": "code",
   "execution_count": 50,
   "metadata": {},
   "outputs": [
    {
     "name": "stdout",
     "output_type": "stream",
     "text": [
      "[]\n",
      "[1]\n",
      "[1, 2]\n",
      "[1, 2, 3]\n",
      "[1, 3]\n",
      "[2]\n",
      "[2, 3]\n",
      "[3]\n"
     ]
    }
   ],
   "source": [
    "def generate_subsets(nums):\n",
    "    def backtrack(start, current_subset):\n",
    "        # First add subset without current number\n",
    "        result.append(current_subset[:])\n",
    "        \n",
    "        # Then try adding each number\n",
    "        for i in range(start, len(nums)):\n",
    "            # Add number\n",
    "            current_subset.append(nums[i])\n",
    "            # Recurse with next position\n",
    "            backtrack(i + 1, current_subset)\n",
    "            # Remove number (backtrack)\n",
    "            current_subset.pop()\n",
    "    \n",
    "    result = []\n",
    "    backtrack(0, [])\n",
    "    return result\n",
    "\n",
    "# Example usage\n",
    "nums = [1, 2, 3]\n",
    "subsets = generate_subsets(nums)\n",
    "for subset in subsets:\n",
    "    print(subset)"
   ]
  },
  {
   "cell_type": "markdown",
   "metadata": {},
   "source": [
    "# [100. Same Tree](https://leetcode.com/problems/same-tree/)"
   ]
  },
  {
   "cell_type": "code",
   "execution_count": null,
   "metadata": {},
   "outputs": [],
   "source": [
    "# Definition for a binary tree node.\n",
    "class TreeNode(object):\n",
    "    def __init__(self, val=0, left=None, right=None):\n",
    "        self.val = val\n",
    "        self.left = left\n",
    "        self.right = right\n",
    "\n",
    "\n"
   ]
  },
  {
   "cell_type": "markdown",
   "metadata": {},
   "source": [
    "# [268. Missing Number](https://leetcode.com/problems/missing-number/)"
   ]
  },
  {
   "cell_type": "code",
   "execution_count": null,
   "metadata": {},
   "outputs": [
    {
     "name": "stdout",
     "output_type": "stream",
     "text": [
      "2\n",
      "2\n",
      "8\n"
     ]
    }
   ],
   "source": [
    "# greedy approach\n",
    "def missingNumber(nums):\n",
    "    \"\"\"\n",
    "    :type nums: List[int]\n",
    "    :rtype: int\n",
    "    \"\"\"\n",
    "    high = len(nums)\n",
    "\n",
    "    for i in range(high+1):\n",
    "        if i not in nums:\n",
    "            return i\n",
    "\n",
    "print(missingNumber([3,0,1]))\n",
    "print(missingNumber([0,1]))\n",
    "print(missingNumber([9,6,4,2,3,5,7,0,1]))\n",
    "    "
   ]
  },
  {
   "cell_type": "code",
   "execution_count": null,
   "metadata": {},
   "outputs": [
    {
     "name": "stdout",
     "output_type": "stream",
     "text": [
      "2\n",
      "2\n",
      "8\n"
     ]
    }
   ],
   "source": [
    "def missingNumber(nums):\n",
    "    \"\"\"\n",
    "    :type nums: List[int]\n",
    "    :rtype: int\n",
    "    \"\"\"\n",
    "    nums.sort()\n",
    "    left = 0\n",
    "    right = len(nums)\n",
    "\n",
    "    while left < right:\n",
    "        # find the mid\n",
    "        mid = left + (right - left) // 2\n",
    "        # If the value at mid equals its index, missing number is after mid\n",
    "        if nums[mid]==mid:\n",
    "            left = mid + 1\n",
    "        # If the value doesn't equal index, missing number is before mid\n",
    "        else:\n",
    "            right = mid\n",
    "    return left\n",
    "\n",
    "print(missingNumber([3,0,1]))\n",
    "print(missingNumber([0,1]))\n",
    "print(missingNumber([9,6,4,2,3,5,7,0,1]))\n",
    "    "
   ]
  },
  {
   "cell_type": "markdown",
   "metadata": {},
   "source": [
    "# [2540. Minimum Common Value](https://leetcode.com/problems/minimum-common-value/)"
   ]
  },
  {
   "cell_type": "code",
   "execution_count": null,
   "metadata": {},
   "outputs": [
    {
     "name": "stdout",
     "output_type": "stream",
     "text": [
      "2\n",
      "2\n"
     ]
    }
   ],
   "source": [
    "def getCommon(nums1, nums2):\n",
    "    \"\"\"\n",
    "    :type nums1: List[int]\n",
    "    :type nums2: List[int]\n",
    "    :rtype: int\n",
    "    \"\"\"\n",
    "    commons = set(nums1).intersection(set(nums2))\n",
    "\n",
    "    if commons:\n",
    "        return min(commons)\n",
    "    else:\n",
    "        return -1\n",
    "\n",
    "print(getCommon([1,2,3], [2,4]))\n",
    "print(getCommon([1,2,3,6], [2,3,4,5]))"
   ]
  },
  {
   "cell_type": "code",
   "execution_count": 60,
   "metadata": {},
   "outputs": [
    {
     "name": "stdout",
     "output_type": "stream",
     "text": [
      "2\n",
      "2\n"
     ]
    }
   ],
   "source": [
    "def getCommon(nums1, nums2):\n",
    "    \"\"\"\n",
    "    :type nums1: List[int]\n",
    "    :type nums2: List[int]\n",
    "    :rtype: int\n",
    "    \"\"\"\n",
    "    def binary_search(arr, target):\n",
    "        left, right = 0, len(arr) - 1\n",
    "        \n",
    "        while left <= right:\n",
    "            mid = left + (right - left) // 2\n",
    "            if arr[mid] == target:\n",
    "                return True\n",
    "            elif arr[mid] < target:\n",
    "                left = mid + 1\n",
    "            else:\n",
    "                right = mid - 1\n",
    "        return False\n",
    "    \n",
    "    # Search for each element of the smaller array in the larger array\n",
    "    if len(nums1) > len(nums2):\n",
    "        nums1, nums2 = nums2, nums1  # Make nums1 the smaller array\n",
    "        \n",
    "    for num in nums1:\n",
    "        if binary_search(nums2, num):\n",
    "            return num\n",
    "    \n",
    "    return -1\n",
    "\n",
    "# Test cases\n",
    "print(getCommon([1,2,3], [2,4]))  # Output: 2\n",
    "print(getCommon([1,2,3,6], [2,3,4,5]))  # Output: 2"
   ]
  },
  {
   "cell_type": "code",
   "execution_count": 62,
   "metadata": {},
   "outputs": [
    {
     "name": "stdout",
     "output_type": "stream",
     "text": [
      "2\n",
      "2\n"
     ]
    }
   ],
   "source": [
    "def getCommon(nums1, nums2):\n",
    "    i = 0\n",
    "    j = 0\n",
    "    while i < len(nums1) and j < len(nums2):\n",
    "        if nums1[i] == nums2[j]:\n",
    "            return nums1[i]\n",
    "        elif nums1[i] > nums2[j]: \n",
    "            j += 1\n",
    "        else: \n",
    "            i += 1\n",
    "    return -1\n",
    "\n",
    "# Test cases\n",
    "print(getCommon([1,2,3], [2,4]))  # Output: 2\n",
    "print(getCommon([1,2,3,6], [2,3,4,5]))  # Output: 2"
   ]
  }
 ],
 "metadata": {
  "kernelspec": {
   "display_name": ".venv",
   "language": "python",
   "name": "python3"
  },
  "language_info": {
   "codemirror_mode": {
    "name": "ipython",
    "version": 3
   },
   "file_extension": ".py",
   "mimetype": "text/x-python",
   "name": "python",
   "nbconvert_exporter": "python",
   "pygments_lexer": "ipython3",
   "version": "3.12.8"
  }
 },
 "nbformat": 4,
 "nbformat_minor": 2
}
